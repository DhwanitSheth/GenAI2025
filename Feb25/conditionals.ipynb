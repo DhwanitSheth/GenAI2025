{
 "cells": [
  {
   "cell_type": "code",
   "execution_count": 1,
   "metadata": {},
   "outputs": [
    {
     "name": "stdout",
     "output_type": "stream",
     "text": [
      "aadhar card\n",
      "birth certificate\n",
      "pan card\n"
     ]
    }
   ],
   "source": [
    "age = 12\n",
    "if age > 18:\n",
    "   print(\"voter id\")\n",
    "   print(\"driving license\")\n",
    "print(\"aadhar card\")\n",
    "print(\"birth certificate\")\n",
    "print(\"pan card\")"
   ]
  },
  {
   "cell_type": "code",
   "execution_count": 2,
   "metadata": {},
   "outputs": [
    {
     "name": "stdout",
     "output_type": "stream",
     "text": [
      "voter id\n",
      "driving license\n",
      "aadhar card\n",
      "birth certificate\n",
      "pan card\n"
     ]
    }
   ],
   "source": [
    "age = 22\n",
    "if age > 18:\n",
    "   print(\"voter id\")\n",
    "   print(\"driving license\")\n",
    "print(\"aadhar card\")\n",
    "print(\"birth certificate\")\n",
    "print(\"pan card\")"
   ]
  },
  {
   "cell_type": "code",
   "execution_count": 3,
   "metadata": {},
   "outputs": [
    {
     "name": "stdout",
     "output_type": "stream",
     "text": [
      "voter id\n",
      "driving license\n",
      "Ayushman Bharat\n",
      "aadhar card\n",
      "birth certificate\n",
      "pan card\n"
     ]
    }
   ],
   "source": [
    "age = 62\n",
    "if age > 18:\n",
    "   print(\"voter id\")\n",
    "   print(\"driving license\")\n",
    "if age > 60:\n",
    "   print(\"Ayushman Bharat\")\n",
    "print(\"aadhar card\")\n",
    "print(\"birth certificate\")\n",
    "print(\"pan card\")"
   ]
  },
  {
   "cell_type": "code",
   "execution_count": 4,
   "metadata": {},
   "outputs": [
    {
     "name": "stdout",
     "output_type": "stream",
     "text": [
      "Pay Taxes\n",
      "Pay GST\n"
     ]
    }
   ],
   "source": [
    "occupation = 'salaried'\n",
    "if occupation == 'salaried':\n",
    "    print('Pay Taxes')\n",
    "else:\n",
    "    print('Can avoid Taxes')\n",
    "print('Pay GST')"
   ]
  },
  {
   "cell_type": "code",
   "execution_count": 5,
   "metadata": {},
   "outputs": [
    {
     "name": "stdout",
     "output_type": "stream",
     "text": [
      "Can avoid Taxes\n",
      "Pay GST\n"
     ]
    }
   ],
   "source": [
    "occupation = 'self-employed'\n",
    "if occupation == 'salaried':\n",
    "    print('Pay Taxes')\n",
    "else:\n",
    "    print('Can avoid Taxes')\n",
    "print('Pay GST')"
   ]
  },
  {
   "cell_type": "code",
   "execution_count": 6,
   "metadata": {},
   "outputs": [
    {
     "name": "stdout",
     "output_type": "stream",
     "text": [
      "price = 354.0\n"
     ]
    }
   ],
   "source": [
    "popcorn_type = 'caramel'\n",
    "price = 300\n",
    "gst = 0\n",
    "if popcorn_type == 'plain':\n",
    "    gst = 5/100\n",
    "elif popcorn_type == 'caramel':\n",
    "    gst = 18/100\n",
    "elif popcorn_type == 'salted':\n",
    "    gst = 12/100\n",
    "total_price = price + price * gst\n",
    "print(f\"price = {total_price}\")"
   ]
  },
  {
   "cell_type": "code",
   "execution_count": 7,
   "metadata": {},
   "outputs": [
    {
     "name": "stdout",
     "output_type": "stream",
     "text": [
      "100000\n"
     ]
    }
   ],
   "source": [
    "education_type = 'school'\n",
    "fees = 100000\n",
    "gst = 0\n",
    "if education_type == 'school':\n",
    "    gst = 0\n",
    "else:\n",
    "    gst = 18/100\n",
    "total_fees = fees + fees * gst\n",
    "print(total_fees)"
   ]
  },
  {
   "cell_type": "code",
   "execution_count": 8,
   "metadata": {},
   "outputs": [
    {
     "name": "stdout",
     "output_type": "stream",
     "text": [
      "118000.0\n"
     ]
    }
   ],
   "source": [
    "education_type = 'professional'\n",
    "fees = 100000\n",
    "gst = 0\n",
    "if education_type == 'school':\n",
    "    gst = 0\n",
    "else:\n",
    "    gst = 18/100\n",
    "total_fees = fees + fees * gst\n",
    "print(total_fees)"
   ]
  },
  {
   "cell_type": "code",
   "execution_count": 9,
   "metadata": {},
   "outputs": [
    {
     "name": "stdout",
     "output_type": "stream",
     "text": [
      "118000.0\n"
     ]
    }
   ],
   "source": [
    "education_type = 'professional'\n",
    "fees = 100000\n",
    "# ternary operator\n",
    "gst = 0 if education_type == 'school' else 18/100\n",
    "total_fees = fees + fees * gst\n",
    "print(total_fees)"
   ]
  },
  {
   "cell_type": "code",
   "execution_count": null,
   "metadata": {},
   "outputs": [],
   "source": []
  }
 ],
 "metadata": {
  "kernelspec": {
   "display_name": "Python 3",
   "language": "python",
   "name": "python3"
  },
  "language_info": {
   "codemirror_mode": {
    "name": "ipython",
    "version": 3
   },
   "file_extension": ".py",
   "mimetype": "text/x-python",
   "name": "python",
   "nbconvert_exporter": "python",
   "pygments_lexer": "ipython3",
   "version": "3.13.2"
  }
 },
 "nbformat": 4,
 "nbformat_minor": 2
}
